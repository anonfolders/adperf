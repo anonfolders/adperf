{
 "cells": [
  {
   "cell_type": "code",
   "execution_count": 1,
   "metadata": {},
   "outputs": [],
   "source": [
    "%load_ext autoreload\n",
    "%autoreload 2\n",
    "%matplotlib inline\n",
    "\n",
    "import matplotlib.pyplot as plt\n",
    "import numpy as np\n",
    "from pathlib import Path"
   ]
  },
  {
   "cell_type": "code",
   "execution_count": 2,
   "metadata": {},
   "outputs": [],
   "source": [
    "def process_input(file):\n",
    "    data = None\n",
    "    print(file)\n",
    "    with open(file, 'r') as fd:\n",
    "        data = fd.read().split()\n",
    "\n",
    "    # print(f'len of data: {len(data)}')\n",
    "    return data\n",
    "\n",
    "\n",
    "def convert_to_ms(data):\n",
    "    # unit is ms\n",
    "    data = [round(float(i) * 1000, 2) for i in data]\n",
    "    return data\n",
    "\n",
    "# TODO: This is for the mini dataset only. \n",
    "# needs to account for full data. which frames are the original frame for each scene\n",
    "def compute_delays(data):\n",
    "    # print(f'Start: {data[0]}, end: {data[-1]}, total:{data[-1] - data[0]}')\n",
    "    # compute delays\n",
    "    delay_list = []\n",
    "    for i, num in enumerate(data):\n",
    "        if i == 0:\n",
    "            continue\n",
    "        else:\n",
    "            delay = data[i] - data[i - 1]\n",
    "            delay_list.append(delay)\n",
    "    return delay_list\n",
    "\n",
    "def xxx(input_file):\n",
    "    processed_data = process_input(input_file)\n",
    "    processed_data = convert_to_ms(processed_data)\n",
    "    delays = compute_delays(processed_data)\n",
    "    return delays"
   ]
  },
  {
   "cell_type": "code",
   "execution_count": 3,
   "metadata": {},
   "outputs": [],
   "source": [
    "def load_data_concat(per_files):\n",
    "    combined_delays = []\n",
    "    for file in per_files:\n",
    "        file_path = Path(file)\n",
    "        # print(file_path.parent, file_path.name)\n",
    "        delays = xxx(file)\n",
    "        combined_delays.append(delays)\n",
    "    delays_arr = np.asarray(combined_delays)\n",
    "    delays_mean = delays_arr.flatten()\n",
    "    # print('Return data shape', delays_mean.shape)\n",
    "    return delays_mean"
   ]
  },
  {
   "cell_type": "markdown",
   "metadata": {},
   "source": [
    "### LOAD NUSCENES DATA"
   ]
  },
  {
   "cell_type": "code",
   "execution_count": 4,
   "metadata": {},
   "outputs": [
    {
     "name": "stdout",
     "output_type": "stream",
     "text": [
      "[['../data/model_output/250319-145309/delays.txt']]\n",
      "../data/model_output/250319-145309/delays.txt\n"
     ]
    }
   ],
   "source": [
    "target = ''\n",
    "with open('adperf_results.txt', 'r') as fd:\n",
    "    target = fd.read()\n",
    "\n",
    "subjects = [[f'{target}/delays.txt']]\n",
    "print(subjects)\n",
    "data = []\n",
    "for index, file in enumerate(subjects):\n",
    "    delays = load_data_concat(file)\n",
    "    data.append(delays)"
   ]
  },
  {
   "cell_type": "markdown",
   "metadata": {},
   "source": [
    "### Raw delay analysis on nuscenes mini"
   ]
  },
  {
   "cell_type": "code",
   "execution_count": 5,
   "metadata": {},
   "outputs": [],
   "source": [
    "def compute_extra_delay_compensated(original_list, expected_processing_time=50):\n",
    "    ret_list = []\n",
    "\n",
    "    for val in original_list:\n",
    "        val_to_add = max(0, val - expected_processing_time)\n",
    "        ret_list.append(val_to_add)\n",
    "\n",
    "    return ret_list\n",
    "\n",
    "\n",
    "def compute_apollo_drop(original_list, threshold=50):\n",
    "    assert len(original_list) % 5 == 0\n",
    "    unique_scenes_len = len(original_list) // 5\n",
    "    alarm_list = []\n",
    "    incurred_delays = 0\n",
    "    for i, val in enumerate(original_list):\n",
    "        # check restart\n",
    "        if (i + 1) % unique_scenes_len == 0:\n",
    "            incurred_delays = 0\n",
    "        # check drop point\n",
    "        if incurred_delays >= threshold:\n",
    "            incurred_delays = max(incurred_delays - threshold, 0)\n",
    "            # save alarm\n",
    "            alarm_list.append(i)\n",
    "        else:\n",
    "            incurred_delays += val\n",
    "\n",
    "    return alarm_list   "
   ]
  },
  {
   "cell_type": "markdown",
   "metadata": {},
   "source": [
    "### Compute drops"
   ]
  },
  {
   "cell_type": "code",
   "execution_count": 6,
   "metadata": {},
   "outputs": [
    {
     "name": "stdout",
     "output_type": "stream",
     "text": [
      "drop frames: []\n",
      "Drop rate reset:0.0\n"
     ]
    },
    {
     "data": {
      "image/png": "[encoded data removed]",
      "text/plain": [
       "<Figure size 640x480 with 2 Axes>"
      ]
     },
     "metadata": {},
     "output_type": "display_data"
    }
   ],
   "source": [
    "for index, rnd_data in enumerate(data):\n",
    "    fig, ax = plt.subplots(nrows=1, ncols=2, gridspec_kw={'width_ratios': [4, 1]}, sharey=True)\n",
    "    # threshold\n",
    "    ax[0].plot([50] * len(data[0]), '--', color='green', label='Expected latency')\n",
    "    # process delays\n",
    "    extra_delay_compensated = compute_extra_delay_compensated(rnd_data)\n",
    "\n",
    "    dropped_frames_reset = compute_apollo_drop(extra_delay_compensated)\n",
    "    print('drop frames:', dropped_frames_reset)\n",
    "    with open('../../trajectron_input/frames_dropped.txt', 'w') as fd:\n",
    "        fd.write(','.join([str(x) for x in dropped_frames_reset]))\n",
    "    dropped_values_reset = [rnd_data[x] for x in dropped_frames_reset]\n",
    "\n",
    "    print(f'Drop rate reset:{len(dropped_frames_reset) / len(extra_delay_compensated)}')\n",
    "\n",
    "    ax[0].scatter(range(len(rnd_data)), rnd_data, marker='.', label='Frame latency')\n",
    "    # ax[0].plot(rnd_data)\n",
    "    ax[0].scatter(dropped_frames_reset, dropped_values_reset, marker='.', color='red', label='Dropped frames')\n",
    "\n",
    "    fig.supylabel('ms')\n",
    "    ax[0].set_xlabel('frame index')\n",
    "    ax[0].legend(loc='upper left')\n",
    "\n",
    "    # boxplot distribution\n",
    "    ax[1].boxplot(rnd_data)\n",
    "    ax[1].set_xticks([])\n",
    "\n",
    "    plt.show()"
   ]
  }
 ],
 "metadata": {
  "kernelspec": {
   "display_name": "openpcdet",
   "language": "python",
   "name": "python3"
  },
  "language_info": {
   "codemirror_mode": {
    "name": "ipython",
    "version": 3
   },
   "file_extension": ".py",
   "mimetype": "text/x-python",
   "name": "python",
   "nbconvert_exporter": "python",
   "pygments_lexer": "ipython3",
   "version": "3.7.12"
  }
 },
 "nbformat": 4,
 "nbformat_minor": 2
}

{
 "cells": [
  {
   "cell_type": "code",
   "execution_count": 1,
   "metadata": {},
   "outputs": [],
   "source": [
    "%matplotlib inline\n",
    "import sys\n",
    "sys.path.append('../../trajectron')\n",
    "import os\n",
    "import numpy as np\n",
    "np.set_printoptions(suppress=True)\n",
    "import torch\n",
    "import dill\n",
    "import json\n",
    "from helper import *\n",
    "import statistics\n",
    "from collections import Counter\n",
    "\n",
    "from copy import deepcopy\n",
    "\n",
    "from experiment_helper import *"
   ]
  },
  {
   "cell_type": "markdown",
   "metadata": {},
   "source": [
    "## Load nuScenes SDK and data"
   ]
  },
  {
   "cell_type": "code",
   "execution_count": 2,
   "metadata": {},
   "outputs": [],
   "source": [
    "nuScenes_devkit_path = './devkit/python-sdk/'\n",
    "sys.path.append(nuScenes_devkit_path)"
   ]
  },
  {
   "cell_type": "markdown",
   "metadata": {},
   "source": [
    "# Map Encoding Demo"
   ]
  },
  {
   "cell_type": "code",
   "execution_count": 3,
   "metadata": {},
   "outputs": [],
   "source": [
    "file_path = '../processed/nuScenes_test_mini_full.pkl'\n",
    "\n",
    "with open(file_path, 'rb') as f:\n",
    "    eval_env = dill.load(f, encoding='latin1')\n",
    "eval_scenes = eval_env.scenes\n"
   ]
  },
  {
   "cell_type": "code",
   "execution_count": 4,
   "metadata": {},
   "outputs": [],
   "source": [
    "ph = 6\n",
    "log_dir = './models'"
   ]
  },
  {
   "cell_type": "code",
   "execution_count": 5,
   "metadata": {},
   "outputs": [],
   "source": [
    "# Define ROI in nuScenes Map\n",
    "x_min = 773.0\n",
    "x_max = 1100.0\n",
    "y_min = 1231.0\n",
    "y_max = 1510.0"
   ]
  },
  {
   "cell_type": "code",
   "execution_count": 6,
   "metadata": {},
   "outputs": [],
   "source": [
    "layers = ['drivable_area',\n",
    "          'road_segment',\n",
    "          'lane',\n",
    "          'ped_crossing',\n",
    "          'walkway',\n",
    "          'stop_line',\n",
    "          'road_divider',\n",
    "          'lane_divider']"
   ]
  },
  {
   "cell_type": "code",
   "execution_count": 7,
   "metadata": {},
   "outputs": [],
   "source": [
    "DROPPED_FRAMES = read_dropped_frames()\n",
    "mvalue = get_gt_modification()"
   ]
  },
  {
   "cell_type": "code",
   "execution_count": 8,
   "metadata": {},
   "outputs": [
    {
     "name": "stdout",
     "output_type": "stream",
     "text": [
      "\n",
      "Loading from ./models/vel_ee/model_registrar-12.pt\n",
      "Loaded!\n",
      "\n",
      "Number of scenes = 2\n",
      "0.19 0.07\n"
     ]
    }
   ],
   "source": [
    "model_dir = os.path.join(log_dir, 'vel_ee') \n",
    "eval_stg_vel, hyp = load_model(model_dir, eval_env, ts=12)\n",
    "\n",
    "print(f'Number of scenes = {len(eval_scenes)}')\n",
    "scenes = eval_scenes\n",
    "ph = 6\n",
    "shift = 0\n",
    "with torch.no_grad():\n",
    "    timestep = np.array([2])\n",
    "\n",
    "    output = {}\n",
    "    for sid, scene in enumerate(scenes):\n",
    "        # print(f'scene-{scene.name}')\n",
    "        scene_perturb = deepcopy(scene)\n",
    "        for ni, n in enumerate(scene.nodes):\n",
    "            if str(n.id) != 'ego':\n",
    "                last_available_di = 0\n",
    "                for di, _ in enumerate(n.data.data):\n",
    "                    scene_perturb.nodes[ni].data.data[di][1] += mvalue\n",
    "                for di, _ in enumerate(n.data.data):\n",
    "                    # perturb\n",
    "                    frame_idx = shift + n.first_timestep + di\n",
    "                    if frame_idx in DROPPED_FRAMES:\n",
    "                        scene_perturb.nodes[ni].data.data[di] = scene_perturb.nodes[ni].data.data[last_available_di]\n",
    "                    else:\n",
    "                        last_available_di = di\n",
    "        shift = scene.timesteps\n",
    "        predictions_mm = eval_stg_vel.predict(scene,\n",
    "                                            timestep, ph,\n",
    "                                            num_samples=1,\n",
    "                                            z_mode=True, gmm_mode=True)\n",
    "\n",
    "        predictions_mm_perturb = eval_stg_vel.predict(scene_perturb,\n",
    "                                                    timestep, ph,\n",
    "                                                    num_samples=1,\n",
    "                                                    z_mode=True, gmm_mode=True)   \n",
    "\n",
    "        # values will always be equal to timestep above\n",
    "        pkey = list(predictions_mm_perturb.keys())[0]\n",
    "        output[scene.name] = {}\n",
    "        for node in predictions_mm_perturb[pkey].keys():\n",
    "            output[scene.name][str(node)] = {\n",
    "                'original': predictions_mm[pkey][node].tolist(),\n",
    "                'perturbed': predictions_mm_perturb[pkey][node].tolist()\n",
    "            }\n",
    "    compute_error(output)"
   ]
  }
 ],
 "metadata": {
  "kernelspec": {
   "display_name": "Python 3",
   "language": "python",
   "name": "python3"
  },
  "language_info": {
   "codemirror_mode": {
    "name": "ipython",
    "version": 3
   },
   "file_extension": ".py",
   "mimetype": "text/x-python",
   "name": "python",
   "nbconvert_exporter": "python",
   "pygments_lexer": "ipython3",
   "version": "3.6.13"
  }
 },
 "nbformat": 4,
 "nbformat_minor": 2
}
